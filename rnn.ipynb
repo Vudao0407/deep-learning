{
  "cells": [
    {
      "cell_type": "code",
      "execution_count": 1,
      "metadata": {
        "id": "N_-5btKM8Uvl"
      },
      "outputs": [],
      "source": [
        "import numpy as np\n",
        "import matplotlib.pyplot as plt\n",
        "import math\n",
        "from IPython import display\n",
        "\n",
        "try:\n",
        "  import torch\n",
        "\n",
        "\n",
        "except ModuleNotFoundError:\n",
        "  %pip install -qq torch\n",
        "  import torch\n",
        "from torch import nn\n",
        "from torch.nn import functional as F\n",
        "from torch.utils import data\n",
        "\n",
        "import collections\n",
        "import re\n",
        "import random\n",
        "import requests\n",
        "import hashlib\n",
        "import time\n",
        "\n",
        "\n",
        "\n",
        "\n",
        "np.random.seed(seed=1)\n",
        "torch.manual_seed(seed=1)\n",
        "\n",
        "!mkdir figures"
      ]
    },
    {
      "cell_type": "markdown",
      "source": [
        "**Data**"
      ],
      "metadata": {
        "id": "1OSIEovOevb8"
      }
    },
    {
      "cell_type": "code",
      "source": [
        "class SeqDataLoader:\n",
        "  \"\"\"An interator to load sequence data.\"\"\"\n",
        "\n",
        "  def __init__(self, batch_size, num_steps, use_random_iter, max_tokens):\n",
        "    if use_random_iter:\n",
        "      self.data_iter_fn = seq_data_iter_random\n",
        "    else:\n",
        "      self.data_iter_fn = self.seq_data_iter_sequential\n",
        "\n",
        "    self.corpus, self.vocab = load_corpus_time_machine(max_tokens)\n",
        "    self.batch_size, self.num_steps = batch_size, num_steps\n",
        "\n",
        "  def __iter__(self):\n",
        "    return self.data_iter_fn(self.corpus, self.batch_size, self.num_steps)\n",
        "\n",
        "\n",
        "class Vocab:\n",
        "  \"\"\"Vocabulary for text.\"\"\"\n",
        "  def __init__(self, tokens=None, min_freq=0, reserved_tokens=None):\n",
        "    if tokens is None:\n",
        "      tokens = []\n",
        "    if reserved_tokens is None:\n",
        "      reserved_tokens = []\n",
        "    counter = count_corpus(tokens)\n",
        "\n",
        "\n",
        "\n",
        "    # Sort according to frequencies\n",
        "\n",
        "\n"
      ],
      "metadata": {
        "id": "gOzSMbssdLim"
      },
      "execution_count": null,
      "outputs": []
    },
    {
      "cell_type": "code",
      "source": [
        "def seq_data_iter_random():\n",
        "  pass\n",
        "\n",
        "\n",
        "def seq_data_iter_sequential():\n",
        "  pass\n",
        "\n",
        "\n",
        "def load_corpus_time_machine():\n",
        "  pass\n",
        "\n",
        "\n",
        "\n",
        "def count_corpus(tokens):\n",
        "  pass"
      ],
      "metadata": {
        "id": "rLosDK4tiYtK"
      },
      "execution_count": null,
      "outputs": []
    }
  ],
  "metadata": {
    "language_info": {
      "name": "python"
    },
    "colab": {
      "provenance": []
    },
    "kernelspec": {
      "name": "python3",
      "display_name": "Python 3"
    }
  },
  "nbformat": 4,
  "nbformat_minor": 0
}
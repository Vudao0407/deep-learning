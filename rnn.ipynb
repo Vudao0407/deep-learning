{
  "cells": [
    {
      "cell_type": "markdown",
      "metadata": {
        "id": "view-in-github",
        "colab_type": "text"
      },
      "source": [
        "<a href=\"https://colab.research.google.com/github/Vudao0407/deep-learning/blob/main/rnn.ipynb\" target=\"_parent\"><img src=\"https://colab.research.google.com/assets/colab-badge.svg\" alt=\"Open In Colab\"/></a>"
      ]
    },
    {
      "cell_type": "code",
      "execution_count": 1,
      "metadata": {
        "id": "N_-5btKM8Uvl"
      },
      "outputs": [],
      "source": [
        "import numpy as np\n",
        "import matplotlib.pyplot as plt\n",
        "import math\n",
        "from IPython import display\n",
        "\n",
        "try:\n",
        "  import torch\n",
        "\n",
        "\n",
        "except ModuleNotFoundError:\n",
        "  %pip install -qq torch\n",
        "  import torch\n",
        "from torch import nn\n",
        "from torch.nn import functional as F\n",
        "from torch.utils import data\n",
        "\n",
        "import collections\n",
        "import re\n",
        "import random\n",
        "import requests\n",
        "import hashlib\n",
        "import time\n",
        "\n",
        "\n",
        "\n",
        "\n",
        "np.random.seed(seed=1)\n",
        "torch.manual_seed(seed=1)\n",
        "\n",
        "!mkdir figures"
      ]
    },
    {
      "cell_type": "code",
      "source": [],
      "metadata": {
        "id": "gOzSMbssdLim"
      },
      "execution_count": null,
      "outputs": []
    }
  ],
  "metadata": {
    "language_info": {
      "name": "python"
    },
    "colab": {
      "provenance": [],
      "include_colab_link": true
    },
    "kernelspec": {
      "name": "python3",
      "display_name": "Python 3"
    }
  },
  "nbformat": 4,
  "nbformat_minor": 0
}